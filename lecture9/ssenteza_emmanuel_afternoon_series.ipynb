{
  "cells": [
    {
      "cell_type": "code",
      "execution_count": 1,
      "metadata": {},
      "outputs": [],
      "source": [
        "# importing the pandas package\n",
        "import pandas as pd"
      ]
    },
    {
      "cell_type": "code",
      "execution_count": 2,
      "metadata": {},
      "outputs": [
        {
          "name": "stdout",
          "output_type": "stream",
          "text": [
            "0    False\n",
            "1    False\n",
            "2    False\n",
            "3    False\n",
            "4     True\n",
            "dtype: bool\n"
          ]
        }
      ],
      "source": [
        "'''\n",
        "    1.Write a Pandas program to compare the elements of two Pandas series. \n",
        "    Sample Series [4,65,436,3,9], [7,0,3,897,9]\n",
        "'''\n",
        "# Create the two sample series\n",
        "series1 = pd.Series([4, 65, 436, 3, 9])\n",
        "series2 = pd.Series([7, 0, 3, 897, 9])\n",
        "\n",
        "# Compare the elements of the two series\n",
        "comparison_result = series1 == series2\n",
        "\n",
        "# Print the comparison result\n",
        "print(comparison_result)\n"
      ]
    },
    {
      "cell_type": "code",
      "execution_count": 3,
      "metadata": {},
      "outputs": [
        {
          "name": "stdout",
          "output_type": "stream",
          "text": [
            "Addition Result:\n",
            "0     3\n",
            "1     7\n",
            "2    11\n",
            "3    15\n",
            "4    23\n",
            "dtype: int64\n",
            "Subtraction Result:\n",
            "0    1\n",
            "1    1\n",
            "2    1\n",
            "3    1\n",
            "4    5\n",
            "dtype: int64\n",
            "Multiplication Result:\n",
            "0      2\n",
            "1     12\n",
            "2     30\n",
            "3     56\n",
            "4    126\n",
            "dtype: int64\n",
            "Division Result:\n",
            "0    2.000000\n",
            "1    1.333333\n",
            "2    1.200000\n",
            "3    1.142857\n",
            "4    1.555556\n",
            "dtype: float64\n"
          ]
        }
      ],
      "source": [
        "'''\n",
        "    2.\tWrite a Pandas program to add, subtract, multiply and divide two Pandas series. \n",
        "    Sample Series: [2,4,6,8,14], [1,3,5,7,9]\n",
        "'''\n",
        "# Create the two sample series\n",
        "series1 = pd.Series([2, 4, 6, 8, 14])\n",
        "series2 = pd.Series([1, 3, 5, 7, 9])\n",
        "\n",
        "# Addition\n",
        "addition_result = series1 + series2\n",
        "\n",
        "# Subtraction\n",
        "subtraction_result = series1 - series2\n",
        "\n",
        "# Multiplication\n",
        "multiplication_result = series1 * series2\n",
        "\n",
        "# Division\n",
        "division_result = series1 / series2\n",
        "\n",
        "# Print the results\n",
        "print(\"Addition Result:\")\n",
        "print(addition_result)\n",
        "\n",
        "print(\"Subtraction Result:\")\n",
        "print(subtraction_result)\n",
        "\n",
        "print(\"Multiplication Result:\")\n",
        "print(multiplication_result)\n",
        "\n",
        "print(\"Division Result:\")\n",
        "print(division_result)\n"
      ]
    },
    {
      "cell_type": "code",
      "execution_count": 4,
      "metadata": {},
      "outputs": [
        {
          "name": "stdout",
          "output_type": "stream",
          "text": [
            "======Results of the dictionary to series=========\n",
            "Josh       24\n",
            "Sam        36\n",
            "Peace      19\n",
            "Charles    65\n",
            "Tom        44\n",
            "dtype: int64\n"
          ]
        }
      ],
      "source": [
        "'''\n",
        "    3.\tWrite a Pandas program to convert a dictionary to a Pandas series. \n",
        "    Sample dictionary: dictionary1 = {‘Josh’: 24, ‘Sam’: 36, ‘Peace’: 19, ‘Charles’: 65, ‘Tom’: 44}\n",
        "'''\n",
        "# Sample dictionary\n",
        "dictionary1 = {'Josh': 24, 'Sam': 36, 'Peace': 19, 'Charles': 65, 'Tom': 44}\n",
        "\n",
        "# Convert dictionary to series\n",
        "series1 = pd.Series(dictionary1)\n",
        "\n",
        "# Print the series\n",
        "print(\"======Results of the dictionary to series=========\")\n",
        "print(series1)\n"
      ]
    },
    {
      "cell_type": "code",
      "execution_count": 5,
      "metadata": {},
      "outputs": [
        {
          "name": "stdout",
          "output_type": "stream",
          "text": [
            "['Love' 800 'Joy' 789.9 'Peace' True]\n"
          ]
        }
      ],
      "source": [
        "''''\n",
        "    4.\tWrite a Pandas program to convert a given series to an array.\n",
        "    Sample series: [‘Love’, 800, ‘Joy’, 789.9, ‘Peace’, True]\n",
        "'''\n",
        "# Sample series\n",
        "series2 = pd.Series(['Love', 800, 'Joy', 789.9, 'Peace', True])\n",
        "\n",
        "# Convert series to array\n",
        "array1 = series2.to_numpy()\n",
        "\n",
        "# Print the array\n",
        "print(array1)\n"
      ]
    },
    {
      "cell_type": "code",
      "execution_count": 6,
      "metadata": {},
      "outputs": [
        {
          "data": {
            "text/plain": [
              "'5.\\tWrite a Pandas program to display the most frequent value in the given series and replace everything else as ‘Other’ in the series. (Use the ‘HomeTeamGoals’ column in the dataset provided)'"
            ]
          },
          "execution_count": 6,
          "metadata": {},
          "output_type": "execute_result"
        }
      ],
      "source": [
        "'''5.\tWrite a Pandas program to display the most frequent value in the given series and replace everything else as ‘Other’ in the series. (Use the ‘HomeTeamGoals’ column in the dataset provided)'''"
      ]
    }
  ],
  "metadata": {
    "kernelspec": {
      "display_name": "Python 3",
      "language": "python",
      "name": "python3"
    },
    "language_info": {
      "codemirror_mode": {
        "name": "ipython",
        "version": 3
      },
      "file_extension": ".py",
      "mimetype": "text/x-python",
      "name": "python",
      "nbconvert_exporter": "python",
      "pygments_lexer": "ipython3",
      "version": "3.11.4"
    },
    "orig_nbformat": 4
  },
  "nbformat": 4,
  "nbformat_minor": 2
}
