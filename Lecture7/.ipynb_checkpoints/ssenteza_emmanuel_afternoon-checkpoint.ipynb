{
 "cells": [
  {
   "cell_type": "code",
   "execution_count": 2,
   "id": "0d6dd6cf",
   "metadata": {},
   "outputs": [],
   "source": [
    "import pandas as pd\n"
   ]
  },
  {
   "cell_type": "code",
   "execution_count": 3,
   "id": "75ccba87",
   "metadata": {},
   "outputs": [],
   "source": [
    "my_dataset = {\n",
    "    'cars': ['Tesla', 'Toyota', 'Jeep', 'Corolla'],\n",
    "    'country': ['Uganda', 'Kenya', 'Japan', 'Africa'],\n",
    "    'year of make': [2021, 2022, 2023, 1999]\n",
    "}"
   ]
  },
  {
   "cell_type": "code",
   "execution_count": 4,
   "id": "c06e783f",
   "metadata": {},
   "outputs": [
    {
     "name": "stdout",
     "output_type": "stream",
     "text": [
      "     cars  year of make\n",
      "0   Tesla          2021\n",
      "1  Toyota          2022\n",
      "2    Jeep          2023\n"
     ]
    }
   ],
   "source": [
    "my_var = pd.DataFrame(my_dataset)\n",
    "print(my_var)"
   ]
  },
  {
   "cell_type": "code",
   "execution_count": null,
   "id": "ab3579d1",
   "metadata": {},
   "outputs": [],
   "source": []
  }
 ],
 "metadata": {
  "kernelspec": {
   "display_name": "Python 3 (ipykernel)",
   "language": "python",
   "name": "python3"
  },
  "language_info": {
   "codemirror_mode": {
    "name": "ipython",
    "version": 3
   },
   "file_extension": ".py",
   "mimetype": "text/x-python",
   "name": "python",
   "nbconvert_exporter": "python",
   "pygments_lexer": "ipython3",
   "version": "3.10.9"
  }
 },
 "nbformat": 4,
 "nbformat_minor": 5
}
