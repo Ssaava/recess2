{
 "cells": [
  {
   "cell_type": "code",
   "execution_count": 2,
   "id": "cb5bef91",
   "metadata": {},
   "outputs": [],
   "source": [
    "import pandas as pd\n"
   ]
  },
  {
   "cell_type": "code",
   "execution_count": 9,
   "id": "2edb6c21",
   "metadata": {},
   "outputs": [],
   "source": [
    "my_dataset = {\n",
    "    'cars': ['Tesla', 'Toyota', 'Jeep', 'Corolla'],\n",
    "    'country': ['Uganda', 'Kenya', 'Japan', 'Africa'],\n",
    "    'year of make': [2021, 2022, 2023, 1999]\n",
    "}"
   ]
  },
  {
   "cell_type": "code",
   "execution_count": 10,
   "id": "9b1f4c62",
   "metadata": {},
   "outputs": [
    {
     "name": "stdout",
     "output_type": "stream",
     "text": [
      "      cars country  year of make\n",
      "0    Tesla  Uganda          2021\n",
      "1   Toyota   Kenya          2022\n",
      "2     Jeep   Japan          2023\n",
      "3  Corolla  Africa          1999\n"
     ]
    }
   ],
   "source": [
    "my_var = pd.DataFrame(my_dataset)\n",
    "print(my_var)"
   ]
  },
  {
   "cell_type": "code",
   "execution_count": 11,
   "id": "f6d9f0b6",
   "metadata": {},
   "outputs": [
    {
     "name": "stdout",
     "output_type": "stream",
     "text": [
      "4\n"
     ]
    }
   ],
   "source": [
    "print(len(my_var))"
   ]
  },
  {
   "cell_type": "code",
   "execution_count": null,
   "id": "c00f9c10",
   "metadata": {},
   "outputs": [],
   "source": []
  }
 ],
 "metadata": {
  "kernelspec": {
   "display_name": "Python 3 (ipykernel)",
   "language": "python",
   "name": "python3"
  },
  "language_info": {
   "codemirror_mode": {
    "name": "ipython",
    "version": 3
   },
   "file_extension": ".py",
   "mimetype": "text/x-python",
   "name": "python",
   "nbconvert_exporter": "python",
   "pygments_lexer": "ipython3",
   "version": "3.10.9"
  }
 },
 "nbformat": 4,
 "nbformat_minor": 5
}
